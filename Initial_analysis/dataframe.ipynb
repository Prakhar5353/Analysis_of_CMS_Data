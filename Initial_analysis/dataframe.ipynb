{
 "cells": [
  {
   "cell_type": "code",
   "execution_count": 1,
   "id": "0344931a-a504-41c8-b885-3d68052c8565",
   "metadata": {},
   "outputs": [],
   "source": [
    "import uproot \n",
    "import pandas as pd\n",
    "import awkward as ak\n",
    "import numpy as np\n",
    "import matplotlib.pyplot as plt"
   ]
  },
  {
   "cell_type": "code",
   "execution_count": 2,
   "id": "d1ca9094-c17e-46df-a4a4-7c576fb3b197",
   "metadata": {},
   "outputs": [],
   "source": [
    "tree = uproot.open(\"givenfile.root:Events\")"
   ]
  },
  {
   "cell_type": "code",
   "execution_count": 3,
   "id": "d824b096-27be-400e-a3a4-0887ad7fcacc",
   "metadata": {},
   "outputs": [],
   "source": [
    "events =  tree.arrays(library = \"ak\", how = \"zip\")"
   ]
  },
  {
   "cell_type": "code",
   "execution_count": 4,
   "id": "c86b3e16-8b15-46a9-9e3e-536336ec7e69",
   "metadata": {},
   "outputs": [],
   "source": [
    "events=events[(events.HLT_Diphoton30_22_R9Id_OR_IsoCaloId_AND_HE_R9Id_Mass90 == 1)|(events.HLT_Diphoton30_22_R9Id_OR_IsoCaloId_AND_HE_R9Id_Mass95 ==1)]"
   ]
  },
  {
   "cell_type": "code",
   "execution_count": 5,
   "id": "3e6f6d26-b1f4-4a1e-be05-62c6ba0cef1f",
   "metadata": {},
   "outputs": [],
   "source": [
    "photons = events.Photon"
   ]
  },
  {
   "cell_type": "code",
   "execution_count": 6,
   "id": "e0dfa0f8-380a-40a8-8023-d4e4e1ed5be3",
   "metadata": {},
   "outputs": [
    {
     "data": {
      "text/html": [
       "<pre>[[107, 18.6, 16.5],\n",
       " [38.6, 29.6, 11.5],\n",
       " [43.9, 38.6],\n",
       " [53, 42.7],\n",
       " [200, 64, 23.4],\n",
       " [122, 24.6, 14.3],\n",
       " [39.6, 32.3],\n",
       " [34.7, 32.9],\n",
       " [54.5, 51.3, 22.4],\n",
       " [35.7, 29.9],\n",
       " ...,\n",
       " [53.7, 22.7],\n",
       " [32.6, 31.5],\n",
       " [40.1, 37.3],\n",
       " [75.1, 25.6],\n",
       " [43.8, 31.5],\n",
       " [35.9, 32],\n",
       " [49.2, 47.7, 23.8, 14.2],\n",
       " [63.3, 33.6],\n",
       " [64.6, 21.9]]\n",
       "---------------------------\n",
       "type: 87616 * var * float32</pre>"
      ],
      "text/plain": [
       "<Array [[107, 18.6, 16.5], ..., [64.6, 21.9]] type='87616 * var * float32'>"
      ]
     },
     "execution_count": 6,
     "metadata": {},
     "output_type": "execute_result"
    }
   ],
   "source": [
    "photons.pt"
   ]
  },
  {
   "cell_type": "code",
   "execution_count": 7,
   "id": "b7d2289f-e368-45bb-ba02-f7556eee4838",
   "metadata": {},
   "outputs": [],
   "source": [
    "def cut(ph):\n",
    "    x1 = ((ph.isScEtaEB ==1)&(ph.hoe<0.08)&(ph.sieie<0.015)&(ph.r9>0.5)&(ph.r9<0.85)&(ph.pfPhoIso03<4.0)&(ph.trkSumPtHollowConeDR03<6.0))\n",
    "    x2 = ((ph.isScEtaEB ==1)&(ph.hoe<0.08)&(ph.r9>0.85))\n",
    "    x3 = ((ph.isScEtaEE ==1)&(ph.hoe<0.08)&(ph.sieie<0.035)&(ph.r9>0.8)&(ph.r9<0.9)&(ph.pfPhoIso03<4.0)&(ph.trkSumPtHollowConeDR03<6.0))\n",
    "    x4 = ((ph.isScEtaEE ==1)&(ph.hoe<0.08)&(ph.r9>0.9))\n",
    "    final = ph[((x1|x2)|(x3|x4))]\n",
    "    return final"
   ]
  },
  {
   "cell_type": "code",
   "execution_count": 8,
   "id": "8f913f3c-e8ed-49d2-9da0-c410a4180b20",
   "metadata": {},
   "outputs": [],
   "source": [
    "photons = cut(photons)"
   ]
  },
  {
   "cell_type": "code",
   "execution_count": 9,
   "id": "4c199929-d658-4ca1-9c64-0573bfe44db0",
   "metadata": {},
   "outputs": [
    {
     "data": {
      "text/html": [
       "<pre>[[107, 18.6, 16.5],\n",
       " [29.6],\n",
       " [43.9],\n",
       " [53],\n",
       " [],\n",
       " [122, 24.6],\n",
       " [39.6, 32.3],\n",
       " [32.9],\n",
       " [51.3],\n",
       " [29.9],\n",
       " ...,\n",
       " [22.7],\n",
       " [32.6, 31.5],\n",
       " [40.1, 37.3],\n",
       " [],\n",
       " [31.5],\n",
       " [35.9, 32],\n",
       " [47.7],\n",
       " [63.3, 33.6],\n",
       " [21.9]]\n",
       "---------------------------\n",
       "type: 87616 * var * float32</pre>"
      ],
      "text/plain": [
       "<Array [[107, 18.6, 16.5], [29.6], ..., [21.9]] type='87616 * var * float32'>"
      ]
     },
     "execution_count": 9,
     "metadata": {},
     "output_type": "execute_result"
    }
   ],
   "source": [
    "score = photons.pt\n",
    "score"
   ]
  },
  {
   "cell_type": "code",
   "execution_count": 10,
   "id": "b7726968-9fa0-44f4-9162-f4c4f8c79a48",
   "metadata": {},
   "outputs": [],
   "source": [
    "#sorting the data according to pt\n",
    "photons = photons[ak.argsort(score,ascending = False)]"
   ]
  },
  {
   "cell_type": "code",
   "execution_count": 11,
   "id": "5425eb2d-03ad-4472-8bb4-d3e3927e494d",
   "metadata": {},
   "outputs": [
    {
     "data": {
      "text/html": [
       "<pre>[[107, 18.6, 16.5],\n",
       " [29.6],\n",
       " [43.9],\n",
       " [53],\n",
       " [],\n",
       " [122, 24.6],\n",
       " [39.6, 32.3],\n",
       " [32.9],\n",
       " [51.3],\n",
       " [29.9],\n",
       " ...,\n",
       " [22.7],\n",
       " [32.6, 31.5],\n",
       " [40.1, 37.3],\n",
       " [],\n",
       " [31.5],\n",
       " [35.9, 32],\n",
       " [47.7],\n",
       " [63.3, 33.6],\n",
       " [21.9]]\n",
       "---------------------------\n",
       "type: 87616 * var * float32</pre>"
      ],
      "text/plain": [
       "<Array [[107, 18.6, 16.5], [29.6], ..., [21.9]] type='87616 * var * float32'>"
      ]
     },
     "execution_count": 11,
     "metadata": {},
     "output_type": "execute_result"
    }
   ],
   "source": [
    "photons.pt"
   ]
  },
  {
   "cell_type": "code",
   "execution_count": 12,
   "id": "662c21ad-81a7-4ec4-b010-9bae380babc8",
   "metadata": {},
   "outputs": [
    {
     "data": {
      "text/html": [
       "<pre>[[107, 18.6, 16.5],\n",
       " [122, 24.6],\n",
       " [39.6, 32.3],\n",
       " [32, 24],\n",
       " [71.8, 51.7, 16],\n",
       " [41.7, 19.3, 11.7],\n",
       " [48.4, 36.7],\n",
       " [237, 70.8, 21.5],\n",
       " [51.1, 23.7, 11.1],\n",
       " [31.1, 29],\n",
       " ...,\n",
       " [46.1, 30.1, 11.9],\n",
       " [37.5, 21.3],\n",
       " [71, 27.3],\n",
       " [58.5, 36.1],\n",
       " [49.1, 37.2, 14.2],\n",
       " [32.6, 31.5],\n",
       " [40.1, 37.3],\n",
       " [35.9, 32],\n",
       " [63.3, 33.6]]\n",
       "---------------------------\n",
       "type: 36305 * var * float32</pre>"
      ],
      "text/plain": [
       "<Array [[107, 18.6, 16.5], ..., [63.3, 33.6]] type='36305 * var * float32'>"
      ]
     },
     "execution_count": 12,
     "metadata": {},
     "output_type": "execute_result"
    }
   ],
   "source": [
    "photons = photons[(ak.where(ak.count(photons.pt,axis=1)>1))]\n",
    "photons.pt"
   ]
  },
  {
   "cell_type": "code",
   "execution_count": 13,
   "id": "c6e58ac5-807f-4713-877a-3327ec4b6470",
   "metadata": {},
   "outputs": [
    {
     "data": {
      "text/html": [
       "<pre>[[107, 107, 18.6],\n",
       " [122],\n",
       " [39.6],\n",
       " [32],\n",
       " [71.8, 71.8, 51.7],\n",
       " [41.7, 41.7, 19.3],\n",
       " [48.4],\n",
       " [237, 237, 70.8],\n",
       " [51.1, 51.1, 23.7],\n",
       " [31.1],\n",
       " ...,\n",
       " [46.1, 46.1, 30.1],\n",
       " [37.5],\n",
       " [71],\n",
       " [58.5],\n",
       " [49.1, 49.1, 37.2],\n",
       " [32.6],\n",
       " [40.1],\n",
       " [35.9],\n",
       " [63.3]]\n",
       "---------------------------\n",
       "type: 36305 * var * float32</pre>"
      ],
      "text/plain": [
       "<Array [[107, 107, 18.6], [122], ..., [63.3]] type='36305 * var * float32'>"
      ]
     },
     "execution_count": 13,
     "metadata": {},
     "output_type": "execute_result"
    }
   ],
   "source": [
    "diphoton = ak.combinations(photons,2,fields = [\"leading\",\"subleading\"])\n",
    "diphoton.leading.pt"
   ]
  },
  {
   "cell_type": "code",
   "execution_count": 14,
   "id": "a20d4a8d-919e-4b61-a704-e970ad4fcf0a",
   "metadata": {},
   "outputs": [
    {
     "data": {
      "text/html": [
       "<pre>[[18.6, 16.5, 16.5],\n",
       " [24.6],\n",
       " [32.3],\n",
       " [24],\n",
       " [51.7, 16, 16],\n",
       " [19.3, 11.7, 11.7],\n",
       " [36.7],\n",
       " [70.8, 21.5, 21.5],\n",
       " [23.7, 11.1, 11.1],\n",
       " [29],\n",
       " ...,\n",
       " [30.1, 11.9, 11.9],\n",
       " [21.3],\n",
       " [27.3],\n",
       " [36.1],\n",
       " [37.2, 14.2, 14.2],\n",
       " [31.5],\n",
       " [37.3],\n",
       " [32],\n",
       " [33.6]]\n",
       "---------------------------\n",
       "type: 36305 * var * float32</pre>"
      ],
      "text/plain": [
       "<Array [[18.6, 16.5, 16.5], [24.6], ..., [33.6]] type='36305 * var * float32'>"
      ]
     },
     "execution_count": 14,
     "metadata": {},
     "output_type": "execute_result"
    }
   ],
   "source": [
    "diphoton.subleading.pt"
   ]
  },
  {
   "cell_type": "code",
   "execution_count": 15,
   "id": "2d58ae85-2ecc-4fd6-9cd6-7989f8a0879a",
   "metadata": {},
   "outputs": [
    {
     "data": {
      "text/html": [
       "<pre>[[3.8, 1.92, 1.15],\n",
       " [146],\n",
       " [337],\n",
       " [108],\n",
       " [187, 103, 1.63],\n",
       " [1.66, 2.45, 1.73],\n",
       " [99.8],\n",
       " [519, 161, 70.7],\n",
       " [143, 0.667, 66.2],\n",
       " [341],\n",
       " ...,\n",
       " [96, 60.8, 1.83],\n",
       " [122],\n",
       " [89.1],\n",
       " [117],\n",
       " [113, 15.4, 59.4],\n",
       " [92.7],\n",
       " [127],\n",
       " [88.9],\n",
       " [115]]\n",
       "---------------------------\n",
       "type: 36305 * var * float32</pre>"
      ],
      "text/plain": [
       "<Array [[3.8, 1.92, 1.15], [146], ..., [115]] type='36305 * var * float32'>"
      ]
     },
     "execution_count": 15,
     "metadata": {},
     "output_type": "execute_result"
    }
   ],
   "source": [
    "#mass of the pair\n",
    "diphoton[\"pair_mass\"] = np.sqrt((2*diphoton.leading.pt*diphoton.subleading.pt)*(np.cosh(diphoton.leading.eta - diphoton.subleading.eta) - np.cos(diphoton.leading.phi - diphoton.subleading.phi)))\n",
    "diphoton.pair_mass"
   ]
  },
  {
   "cell_type": "code",
   "execution_count": 16,
   "id": "dd0b4295-9cbd-4ecc-bbc6-b17ceb090d5e",
   "metadata": {},
   "outputs": [
    {
     "data": {
      "text/html": [
       "<pre>[[18.6, 16.5, 16.5],\n",
       " [],\n",
       " [],\n",
       " [],\n",
       " [16],\n",
       " [19.3, 11.7, 11.7],\n",
       " [36.7],\n",
       " [21.5],\n",
       " [11.1],\n",
       " [],\n",
       " ...,\n",
       " [30.1, 11.9],\n",
       " [],\n",
       " [27.3],\n",
       " [36.1],\n",
       " [37.2, 14.2],\n",
       " [31.5],\n",
       " [],\n",
       " [32],\n",
       " [33.6]]\n",
       "---------------------------\n",
       "type: 36305 * var * float32</pre>"
      ],
      "text/plain": [
       "<Array [[18.6, 16.5, 16.5], [], ..., [32], [33.6]] type='36305 * var * float32'>"
      ]
     },
     "execution_count": 16,
     "metadata": {},
     "output_type": "execute_result"
    }
   ],
   "source": [
    "def select(diphoton):\n",
    "    con = ((np.sqrt(diphoton.leading.pt*diphoton.subleading.pt)/diphoton.pair_mass > 1/3)&(diphoton.subleading.pt/diphoton.pair_mass > 1/4))\n",
    "    new = diphoton[con]\n",
    "    return new\n",
    "diphoto = select(diphoton)\n",
    "diphoto.subleading.pt"
   ]
  },
  {
   "cell_type": "code",
   "execution_count": 17,
   "id": "8e1e3ded-9d50-4432-b27a-7882cc9b69de",
   "metadata": {},
   "outputs": [
    {
     "data": {
      "text/html": [
       "<pre>[[107],\n",
       " [122],\n",
       " [39.6],\n",
       " [32],\n",
       " [71.8],\n",
       " [41.7],\n",
       " [48.4],\n",
       " [237],\n",
       " [51.1],\n",
       " [31.1],\n",
       " ...,\n",
       " [46.1],\n",
       " [37.5],\n",
       " [71],\n",
       " [58.5],\n",
       " [49.1],\n",
       " [32.6],\n",
       " [40.1],\n",
       " [35.9],\n",
       " [63.3]]\n",
       "----------------------------\n",
       "type: 36305 * var * ?float32</pre>"
      ],
      "text/plain": [
       "<Array [[107], [122], ..., [35.9], [63.3]] type='36305 * var * ?float32'>"
      ]
     },
     "execution_count": 17,
     "metadata": {},
     "output_type": "execute_result"
    }
   ],
   "source": [
    "diphoton = diphoton[ak.argmax(diphoton.leading.pt + diphoton.subleading.pt,axis=1,keepdims = True)]\n",
    "diphoton.leading.pt"
   ]
  },
  {
   "cell_type": "code",
   "execution_count": 18,
   "id": "5e4a161d-9f88-4863-a693-671d6cc755cc",
   "metadata": {},
   "outputs": [],
   "source": [
    "#photon1_df = ak.to_dataframe(diphoton[:,0])\n",
    "#photon1_df.to_csv('photon1.csv')"
   ]
  },
  {
   "cell_type": "code",
   "execution_count": 19,
   "id": "13ced5a5-566a-44ea-b7eb-799ceb426969",
   "metadata": {},
   "outputs": [
    {
     "data": {
      "text/html": [
       "<pre>[[18.6],\n",
       " [24.6],\n",
       " [32.3],\n",
       " [24],\n",
       " [51.7],\n",
       " [19.3],\n",
       " [36.7],\n",
       " [70.8],\n",
       " [23.7],\n",
       " [29],\n",
       " ...,\n",
       " [30.1],\n",
       " [21.3],\n",
       " [27.3],\n",
       " [36.1],\n",
       " [37.2],\n",
       " [31.5],\n",
       " [37.3],\n",
       " [32],\n",
       " [33.6]]\n",
       "----------------------------\n",
       "type: 36305 * var * ?float32</pre>"
      ],
      "text/plain": [
       "<Array [[18.6], [24.6], ..., [32], [33.6]] type='36305 * var * ?float32'>"
      ]
     },
     "execution_count": 19,
     "metadata": {},
     "output_type": "execute_result"
    }
   ],
   "source": [
    "lead = diphoton.leading\n",
    "sublead = diphoton.subleading\n",
    "mass = diphoton.pair_mass\n",
    "sublead.pt"
   ]
  },
  {
   "cell_type": "code",
   "execution_count": 20,
   "id": "64f8b5e0-e375-4438-8d02-8c46a30fa841",
   "metadata": {},
   "outputs": [],
   "source": [
    "# ... (Your code to define 'lead' from 'diphoton.leading')\n",
    "fields_to_keep = lead.fields\n",
    "# 1. Flatten and Simplify\n",
    "flattened_lead = ak.flatten(lead)  # Flatten nested structure if present\n",
    "\n",
    "# 2. Extract Relevant Fields  # Add other fields as needed\n",
    "lead_for_df = ak.zip({field: flattened_lead[field] for field in fields_to_keep})\n",
    "\n",
    "# 3. Convert to DataFrame\n",
    "df1 = ak.to_dataframe(lead_for_df)\n",
    "df1 = df1.add_prefix('leadpho_')"
   ]
  },
  {
   "cell_type": "code",
   "execution_count": 21,
   "id": "63b9c167-910c-4b25-a5ad-9733c63f22eb",
   "metadata": {},
   "outputs": [
    {
     "data": {
      "text/plain": [
       "entry\n",
       "0        18.641722\n",
       "1        24.609812\n",
       "2        32.259377\n",
       "3        23.982353\n",
       "4        51.655556\n",
       "           ...    \n",
       "36300    37.249718\n",
       "36301    31.510630\n",
       "36302    37.343422\n",
       "36303    32.034779\n",
       "36304    33.616512\n",
       "Name: subleadpho_pt, Length: 36305, dtype: float32"
      ]
     },
     "execution_count": 21,
     "metadata": {},
     "output_type": "execute_result"
    }
   ],
   "source": [
    "# ... (Your code to define 'lead' from 'diphoton.leading')\n",
    "fields_to_keep = sublead.fields\n",
    "# 1. Flatten and Simplify\n",
    "flattened_sublead = ak.flatten(sublead)  # Flatten nested structure if present\n",
    "\n",
    "# 2. Extract Relevant Fields  # Add other fields as needed\n",
    "sublead_for_df = ak.zip({field: flattened_sublead[field] for field in fields_to_keep})\n",
    "\n",
    "# 3. Convert to DataFrame\n",
    "df2 = ak.to_dataframe(sublead_for_df)\n",
    "df2 = df2.add_prefix('subleadpho_')\n",
    "df2['subleadpho_pt']"
   ]
  },
  {
   "cell_type": "code",
   "execution_count": 22,
   "id": "bc890fe3-a9db-49dd-8b2d-39f63fb4a2ff",
   "metadata": {},
   "outputs": [
    {
     "data": {
      "text/html": [
       "<div>\n",
       "<style scoped>\n",
       "    .dataframe tbody tr th:only-of-type {\n",
       "        vertical-align: middle;\n",
       "    }\n",
       "\n",
       "    .dataframe tbody tr th {\n",
       "        vertical-align: top;\n",
       "    }\n",
       "\n",
       "    .dataframe thead th {\n",
       "        text-align: right;\n",
       "    }\n",
       "</style>\n",
       "<table border=\"1\" class=\"dataframe\">\n",
       "  <thead>\n",
       "    <tr style=\"text-align: right;\">\n",
       "      <th></th>\n",
       "      <th>values</th>\n",
       "    </tr>\n",
       "    <tr>\n",
       "      <th>entry</th>\n",
       "      <th></th>\n",
       "    </tr>\n",
       "  </thead>\n",
       "  <tbody>\n",
       "    <tr>\n",
       "      <th>0</th>\n",
       "      <td>3.797012</td>\n",
       "    </tr>\n",
       "    <tr>\n",
       "      <th>1</th>\n",
       "      <td>146.366074</td>\n",
       "    </tr>\n",
       "    <tr>\n",
       "      <th>2</th>\n",
       "      <td>336.995605</td>\n",
       "    </tr>\n",
       "    <tr>\n",
       "      <th>3</th>\n",
       "      <td>107.637794</td>\n",
       "    </tr>\n",
       "    <tr>\n",
       "      <th>4</th>\n",
       "      <td>187.100769</td>\n",
       "    </tr>\n",
       "    <tr>\n",
       "      <th>...</th>\n",
       "      <td>...</td>\n",
       "    </tr>\n",
       "    <tr>\n",
       "      <th>36300</th>\n",
       "      <td>113.451836</td>\n",
       "    </tr>\n",
       "    <tr>\n",
       "      <th>36301</th>\n",
       "      <td>92.719330</td>\n",
       "    </tr>\n",
       "    <tr>\n",
       "      <th>36302</th>\n",
       "      <td>127.054420</td>\n",
       "    </tr>\n",
       "    <tr>\n",
       "      <th>36303</th>\n",
       "      <td>88.867004</td>\n",
       "    </tr>\n",
       "    <tr>\n",
       "      <th>36304</th>\n",
       "      <td>114.779633</td>\n",
       "    </tr>\n",
       "  </tbody>\n",
       "</table>\n",
       "<p>36305 rows × 1 columns</p>\n",
       "</div>"
      ],
      "text/plain": [
       "           values\n",
       "entry            \n",
       "0        3.797012\n",
       "1      146.366074\n",
       "2      336.995605\n",
       "3      107.637794\n",
       "4      187.100769\n",
       "...           ...\n",
       "36300  113.451836\n",
       "36301   92.719330\n",
       "36302  127.054420\n",
       "36303   88.867004\n",
       "36304  114.779633\n",
       "\n",
       "[36305 rows x 1 columns]"
      ]
     },
     "execution_count": 22,
     "metadata": {},
     "output_type": "execute_result"
    }
   ],
   "source": [
    "mass_for_df=ak.flatten(mass)\n",
    "mass_df = ak.to_dataframe(mass_for_df)\n",
    "mass_df"
   ]
  },
  {
   "cell_type": "code",
   "execution_count": 23,
   "id": "9483b58c-3455-4d40-83c2-a8cf80106850",
   "metadata": {},
   "outputs": [
    {
     "data": {
      "text/html": [
       "<div>\n",
       "<style scoped>\n",
       "    .dataframe tbody tr th:only-of-type {\n",
       "        vertical-align: middle;\n",
       "    }\n",
       "\n",
       "    .dataframe tbody tr th {\n",
       "        vertical-align: top;\n",
       "    }\n",
       "\n",
       "    .dataframe thead th {\n",
       "        text-align: right;\n",
       "    }\n",
       "</style>\n",
       "<table border=\"1\" class=\"dataframe\">\n",
       "  <thead>\n",
       "    <tr style=\"text-align: right;\">\n",
       "      <th></th>\n",
       "      <th>pair_mass</th>\n",
       "    </tr>\n",
       "    <tr>\n",
       "      <th>entry</th>\n",
       "      <th></th>\n",
       "    </tr>\n",
       "  </thead>\n",
       "  <tbody>\n",
       "    <tr>\n",
       "      <th>0</th>\n",
       "      <td>3.797012</td>\n",
       "    </tr>\n",
       "    <tr>\n",
       "      <th>1</th>\n",
       "      <td>146.366074</td>\n",
       "    </tr>\n",
       "    <tr>\n",
       "      <th>2</th>\n",
       "      <td>336.995605</td>\n",
       "    </tr>\n",
       "    <tr>\n",
       "      <th>3</th>\n",
       "      <td>107.637794</td>\n",
       "    </tr>\n",
       "    <tr>\n",
       "      <th>4</th>\n",
       "      <td>187.100769</td>\n",
       "    </tr>\n",
       "    <tr>\n",
       "      <th>...</th>\n",
       "      <td>...</td>\n",
       "    </tr>\n",
       "    <tr>\n",
       "      <th>36300</th>\n",
       "      <td>113.451836</td>\n",
       "    </tr>\n",
       "    <tr>\n",
       "      <th>36301</th>\n",
       "      <td>92.719330</td>\n",
       "    </tr>\n",
       "    <tr>\n",
       "      <th>36302</th>\n",
       "      <td>127.054420</td>\n",
       "    </tr>\n",
       "    <tr>\n",
       "      <th>36303</th>\n",
       "      <td>88.867004</td>\n",
       "    </tr>\n",
       "    <tr>\n",
       "      <th>36304</th>\n",
       "      <td>114.779633</td>\n",
       "    </tr>\n",
       "  </tbody>\n",
       "</table>\n",
       "<p>36305 rows × 1 columns</p>\n",
       "</div>"
      ],
      "text/plain": [
       "        pair_mass\n",
       "entry            \n",
       "0        3.797012\n",
       "1      146.366074\n",
       "2      336.995605\n",
       "3      107.637794\n",
       "4      187.100769\n",
       "...           ...\n",
       "36300  113.451836\n",
       "36301   92.719330\n",
       "36302  127.054420\n",
       "36303   88.867004\n",
       "36304  114.779633\n",
       "\n",
       "[36305 rows x 1 columns]"
      ]
     },
     "execution_count": 23,
     "metadata": {},
     "output_type": "execute_result"
    }
   ],
   "source": [
    "mass_df.rename(columns = {'values':'pair_mass'}, inplace = True)\n",
    "mass_df"
   ]
  },
  {
   "cell_type": "code",
   "execution_count": 24,
   "id": "0fdb63cf-fe6d-4608-928e-c27478ea55f3",
   "metadata": {},
   "outputs": [],
   "source": [
    "final = pd.concat([df1, df2,mass_df], axis=1, join = 'outer')\n",
    "final.to_csv('photon_pair_data.csv')"
   ]
  },
  {
   "cell_type": "code",
   "execution_count": null,
   "id": "b952e554-ee34-4bec-a224-ab717bb6d30c",
   "metadata": {},
   "outputs": [],
   "source": []
  }
 ],
 "metadata": {
  "kernelspec": {
   "display_name": "Python 3 (ipykernel)",
   "language": "python",
   "name": "python3"
  },
  "language_info": {
   "codemirror_mode": {
    "name": "ipython",
    "version": 3
   },
   "file_extension": ".py",
   "mimetype": "text/x-python",
   "name": "python",
   "nbconvert_exporter": "python",
   "pygments_lexer": "ipython3",
   "version": "3.9.12"
  }
 },
 "nbformat": 4,
 "nbformat_minor": 5
}
